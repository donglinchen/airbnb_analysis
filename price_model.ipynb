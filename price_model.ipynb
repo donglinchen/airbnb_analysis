{
 "cells": [
  {
   "cell_type": "code",
   "execution_count": 1,
   "metadata": {},
   "outputs": [],
   "source": [
    "import numpy as np\n",
    "import pandas as pd\n",
    "from sklearn.model_selection import train_test_split\n",
    "from sklearn.impute import SimpleImputer\n",
    "from sklearn.linear_model import LinearRegression\n",
    "from sklearn import metrics\n",
    "import matplotlib.ticker as ticker\n",
    "\n",
    "# pd.options.display.max_columns = 50\n",
    "# pd.options.display.max_rows = 200"
   ]
  },
  {
   "cell_type": "code",
   "execution_count": 2,
   "metadata": {},
   "outputs": [],
   "source": [
    "boston = pd.read_csv('boston_listings.csv', index_col='id')"
   ]
  },
  {
   "cell_type": "code",
   "execution_count": 3,
   "metadata": {},
   "outputs": [
    {
     "name": "stdout",
     "output_type": "stream",
     "text": [
      "(3845, 105)\n"
     ]
    }
   ],
   "source": [
    "print(boston.shape)"
   ]
  },
  {
   "cell_type": "code",
   "execution_count": 4,
   "metadata": {},
   "outputs": [],
   "source": [
    "# After some exploratory analysis, I selected the followig features to build model to predict price\n",
    "features = ['neighbourhood_cleansed', 'property_type', 'accommodates', 'bedrooms', 'bathrooms','number_of_reviews', 'review_scores_rating', 'instant_bookable',\n",
    "            'has_availability','is_business_travel_ready', 'require_guest_phone_verification', 'security_deposit', 'cleaning_fee', 'calculated_host_listings_count'\n",
    "           ]"
   ]
  },
  {
   "cell_type": "code",
   "execution_count": 5,
   "metadata": {},
   "outputs": [],
   "source": [
    "# for the columns that have binary value of \"t\" and \"f\", encode the value to numeric value of 1 and 0 \n",
    "def encode_t_f(val):\n",
    "    \"\"\"\n",
    "    Encode string t/f to 1/0, \"t\"->1, \"f\"->0\n",
    "    Args:\n",
    "        val: string, t/f\n",
    "    Returns:\n",
    "        number: int, 1/0\n",
    "    \"\"\"\n",
    "    return 1 if val == \"t\" else 0"
   ]
  },
  {
   "cell_type": "code",
   "execution_count": 6,
   "metadata": {},
   "outputs": [],
   "source": [
    "def preprocess_data(df):\n",
    "    \"\"\"\n",
    "    Preprocessing the selected input features and return the processed input feature X and label y\n",
    "    Args:\n",
    "        df: DataFrame, boston or seattle dataframe\n",
    "    Returns:\n",
    "        X: preprocessed input features\n",
    "        y: the price that model will predict\n",
    "    \"\"\"\n",
    "    # remove the listings whose property type counts less than 1% of te total properties\n",
    "    property_type_counts = df['property_type'].value_counts() \n",
    "    select_property_types =  property_type_counts[property_type_counts / df.shape[0] > .01].index\n",
    "    df = df[df['property_type'].isin(select_property_types)].copy()\n",
    "    \n",
    "    # change price from string to number for target label\n",
    "    df['price'] = df['price'].replace('[\\$,]', '', regex=True).astype(float)\n",
    "    # remove the listings where prices less than or equal to 0 and greater than 500, which are likely to be mistake\n",
    "    df = df[(df['price'] > 0) & (df['price'] < 500)]\n",
    "    # remove the first time list as the first time list may not be priced properly\n",
    "    df = df[df['calculated_host_listings_count'] > 1]\n",
    "    # remove the neghbourhood where is has less than 10 listings\n",
    "    neighbourhood_listings = df['neighbourhood_cleansed'].value_counts()\n",
    "    neighbourhood_listings_too_few = neighbourhood_listings[neighbourhood_listings < 10].index\n",
    "    df = df[~df['neighbourhood_cleansed'].isin(neighbourhood_listings_too_few)]\n",
    "    # remove rows where neighbourhood or property_type is NaN, there is only one row with missing data in Seattle dataset\n",
    "    # df.dropna(subset=['neighbourhood_cleansed', 'property_type'], inplace=True)\n",
    "    \n",
    "    X = df[features].copy()\n",
    "    y = df['price']\n",
    "    X.rename(columns={'neighbourhood_cleansed': 'neighbourhood'}, inplace=True)\n",
    "    \n",
    "    # convert security_deposit from string to number and fill nan with 0\n",
    "    X.security_deposit = X.security_deposit.replace('[\\$,]', '', regex=True).astype(float).fillna(0)\n",
    "    X.cleaning_fee = X.cleaning_fee.replace('[\\$,]', '', regex=True).astype(float).fillna(0)\n",
    "    \n",
    "    # encode the following columns\n",
    "    columns_to_encode = [\n",
    "        'instant_bookable', 'has_availability','is_business_travel_ready', 'require_guest_phone_verification']\n",
    "    for col in columns_to_encode:\n",
    "        X[col] = X[col].apply(encode_t_f)\n",
    "    \n",
    "    # impute the rest numeric features using average value\n",
    "    impute_cols = X.columns[X.count() < X.shape[0]]\n",
    "    imputer = SimpleImputer(strategy='median')\n",
    "    X[impute_cols] = imputer.fit_transform(X[impute_cols])\n",
    "    \n",
    "    # one-hot encode the categorical features\n",
    "    X = pd.get_dummies(X)\n",
    "\n",
    "    return X, y   "
   ]
  },
  {
   "cell_type": "code",
   "execution_count": 7,
   "metadata": {},
   "outputs": [],
   "source": [
    "def display_metrics(y_test, y_pred):\n",
    "    print('Mean Absolute Error:', metrics.mean_absolute_error(y_test, y_pred))  \n",
    "    print('Mean Squared Error:', metrics.mean_squared_error(y_test, y_pred))  \n",
    "    print('Model Score:', model.score(X_test, y_test))"
   ]
  },
  {
   "cell_type": "code",
   "execution_count": 8,
   "metadata": {},
   "outputs": [
    {
     "name": "stdout",
     "output_type": "stream",
     "text": [
      "Mean Absolute Error: 43.46415770609319\n",
      "Mean Squared Error: 3482.8512544802866\n",
      "Model Score: 0.5917951274621569\n"
     ]
    }
   ],
   "source": [
    "# Build price prediction model for boston\n",
    "X, y = preprocess_data(boston)\n",
    "X_train, X_test, y_train, y_test = train_test_split(X, y, test_size=0.2, random_state=42)\n",
    "model = LinearRegression(normalize=True)\n",
    "model.fit(X_train, y_train)\n",
    "y_pred = model.predict(X_test)\n",
    "display_metrics(y_test, y_pred)\n",
    "actual_vs_predicted = pd.DataFrame({'Actual': y_test, 'Predicted': y_pred})"
   ]
  },
  {
   "cell_type": "code",
   "execution_count": 9,
   "metadata": {},
   "outputs": [
    {
     "data": {
      "text/html": [
       "<div>\n",
       "<style scoped>\n",
       "    .dataframe tbody tr th:only-of-type {\n",
       "        vertical-align: middle;\n",
       "    }\n",
       "\n",
       "    .dataframe tbody tr th {\n",
       "        vertical-align: top;\n",
       "    }\n",
       "\n",
       "    .dataframe thead th {\n",
       "        text-align: right;\n",
       "    }\n",
       "</style>\n",
       "<table border=\"1\" class=\"dataframe\">\n",
       "  <thead>\n",
       "    <tr style=\"text-align: right;\">\n",
       "      <th></th>\n",
       "      <th>Actual</th>\n",
       "      <th>Predicted</th>\n",
       "    </tr>\n",
       "    <tr>\n",
       "      <th>id</th>\n",
       "      <th></th>\n",
       "      <th></th>\n",
       "    </tr>\n",
       "  </thead>\n",
       "  <tbody>\n",
       "    <tr>\n",
       "      <th>6759004</th>\n",
       "      <td>150.0</td>\n",
       "      <td>162.0</td>\n",
       "    </tr>\n",
       "    <tr>\n",
       "      <th>23429071</th>\n",
       "      <td>42.0</td>\n",
       "      <td>102.0</td>\n",
       "    </tr>\n",
       "    <tr>\n",
       "      <th>35915047</th>\n",
       "      <td>120.0</td>\n",
       "      <td>214.0</td>\n",
       "    </tr>\n",
       "    <tr>\n",
       "      <th>26214081</th>\n",
       "      <td>220.0</td>\n",
       "      <td>198.0</td>\n",
       "    </tr>\n",
       "    <tr>\n",
       "      <th>39632515</th>\n",
       "      <td>139.0</td>\n",
       "      <td>138.0</td>\n",
       "    </tr>\n",
       "    <tr>\n",
       "      <th>32864453</th>\n",
       "      <td>199.0</td>\n",
       "      <td>218.0</td>\n",
       "    </tr>\n",
       "    <tr>\n",
       "      <th>25382895</th>\n",
       "      <td>159.0</td>\n",
       "      <td>158.0</td>\n",
       "    </tr>\n",
       "    <tr>\n",
       "      <th>23327474</th>\n",
       "      <td>247.0</td>\n",
       "      <td>180.0</td>\n",
       "    </tr>\n",
       "    <tr>\n",
       "      <th>19540224</th>\n",
       "      <td>200.0</td>\n",
       "      <td>236.0</td>\n",
       "    </tr>\n",
       "    <tr>\n",
       "      <th>38666956</th>\n",
       "      <td>158.0</td>\n",
       "      <td>146.0</td>\n",
       "    </tr>\n",
       "    <tr>\n",
       "      <th>40674186</th>\n",
       "      <td>70.0</td>\n",
       "      <td>58.0</td>\n",
       "    </tr>\n",
       "    <tr>\n",
       "      <th>6317446</th>\n",
       "      <td>240.0</td>\n",
       "      <td>174.0</td>\n",
       "    </tr>\n",
       "    <tr>\n",
       "      <th>43141846</th>\n",
       "      <td>100.0</td>\n",
       "      <td>58.0</td>\n",
       "    </tr>\n",
       "    <tr>\n",
       "      <th>42454867</th>\n",
       "      <td>105.0</td>\n",
       "      <td>46.0</td>\n",
       "    </tr>\n",
       "    <tr>\n",
       "      <th>23505076</th>\n",
       "      <td>180.0</td>\n",
       "      <td>168.0</td>\n",
       "    </tr>\n",
       "    <tr>\n",
       "      <th>38168575</th>\n",
       "      <td>299.0</td>\n",
       "      <td>184.0</td>\n",
       "    </tr>\n",
       "    <tr>\n",
       "      <th>8801250</th>\n",
       "      <td>56.0</td>\n",
       "      <td>86.0</td>\n",
       "    </tr>\n",
       "    <tr>\n",
       "      <th>43154697</th>\n",
       "      <td>150.0</td>\n",
       "      <td>154.0</td>\n",
       "    </tr>\n",
       "    <tr>\n",
       "      <th>22389994</th>\n",
       "      <td>45.0</td>\n",
       "      <td>52.0</td>\n",
       "    </tr>\n",
       "    <tr>\n",
       "      <th>19291138</th>\n",
       "      <td>239.0</td>\n",
       "      <td>238.0</td>\n",
       "    </tr>\n",
       "    <tr>\n",
       "      <th>24623318</th>\n",
       "      <td>179.0</td>\n",
       "      <td>306.0</td>\n",
       "    </tr>\n",
       "    <tr>\n",
       "      <th>37182455</th>\n",
       "      <td>90.0</td>\n",
       "      <td>116.0</td>\n",
       "    </tr>\n",
       "    <tr>\n",
       "      <th>40703364</th>\n",
       "      <td>75.0</td>\n",
       "      <td>126.0</td>\n",
       "    </tr>\n",
       "    <tr>\n",
       "      <th>38407434</th>\n",
       "      <td>130.0</td>\n",
       "      <td>176.0</td>\n",
       "    </tr>\n",
       "    <tr>\n",
       "      <th>24809947</th>\n",
       "      <td>170.0</td>\n",
       "      <td>194.0</td>\n",
       "    </tr>\n",
       "  </tbody>\n",
       "</table>\n",
       "</div>"
      ],
      "text/plain": [
       "          Actual  Predicted\n",
       "id                         \n",
       "6759004    150.0      162.0\n",
       "23429071    42.0      102.0\n",
       "35915047   120.0      214.0\n",
       "26214081   220.0      198.0\n",
       "39632515   139.0      138.0\n",
       "32864453   199.0      218.0\n",
       "25382895   159.0      158.0\n",
       "23327474   247.0      180.0\n",
       "19540224   200.0      236.0\n",
       "38666956   158.0      146.0\n",
       "40674186    70.0       58.0\n",
       "6317446    240.0      174.0\n",
       "43141846   100.0       58.0\n",
       "42454867   105.0       46.0\n",
       "23505076   180.0      168.0\n",
       "38168575   299.0      184.0\n",
       "8801250     56.0       86.0\n",
       "43154697   150.0      154.0\n",
       "22389994    45.0       52.0\n",
       "19291138   239.0      238.0\n",
       "24623318   179.0      306.0\n",
       "37182455    90.0      116.0\n",
       "40703364    75.0      126.0\n",
       "38407434   130.0      176.0\n",
       "24809947   170.0      194.0"
      ]
     },
     "execution_count": 9,
     "metadata": {},
     "output_type": "execute_result"
    }
   ],
   "source": [
    "actual_vs_predicted.sample(25, random_state=1)"
   ]
  },
  {
   "cell_type": "code",
   "execution_count": 10,
   "metadata": {},
   "outputs": [
    {
     "data": {
      "image/png": "[encoded data removed]",
      "text/plain": [
       "<Figure size 1296x576 with 1 Axes>"
      ]
     },
     "metadata": {
      "needs_background": "light"
     },
     "output_type": "display_data"
    }
   ],
   "source": [
    "ax=actual_vs_predicted.sample(40, random_state=0).plot.bar(figsize=(18, 8))\n",
    "ax.yaxis.set_major_formatter(ticker.FormatStrFormatter('$%1.0f'))"
   ]
  }
 ],
 "metadata": {
  "kernelspec": {
   "display_name": "Python 3",
   "language": "python",
   "name": "python3"
  },
  "language_info": {
   "codemirror_mode": {
    "name": "ipython",
    "version": 3
   },
   "file_extension": ".py",
   "mimetype": "text/x-python",
   "name": "python",
   "nbconvert_exporter": "python",
   "pygments_lexer": "ipython3",
   "version": "3.7.6"
  }
 },
 "nbformat": 4,
 "nbformat_minor": 4
}
