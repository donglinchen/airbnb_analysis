{
 "cells": [
  {
   "cell_type": "code",
   "execution_count": 1,
   "metadata": {},
   "outputs": [],
   "source": [
    "import pandas as pd\n",
    "import numpy as np\n",
    "import matplotlib.pyplot as plt\n",
    "import matplotlib.ticker as ticker\n",
    "import seaborn as sns\n",
    "%matplotlib inline\n",
    "\n",
    "# pd.options.display.max_columns = None\n",
    "# pd.options.display.max_rows = 50"
   ]
  },
  {
   "cell_type": "code",
   "execution_count": 2,
   "metadata": {},
   "outputs": [],
   "source": [
    "boston_cal = pd.read_csv('boston_calendar.csv')\n",
    "seattle_cal = pd.read_csv('seattle_calendar.csv')"
   ]
  },
  {
   "cell_type": "code",
   "execution_count": 3,
   "metadata": {},
   "outputs": [
    {
     "name": "stdout",
     "output_type": "stream",
     "text": [
      "(1403425, 7)\n"
     ]
    },
    {
     "data": {
      "text/html": [
       "<div>\n",
       "<style scoped>\n",
       "    .dataframe tbody tr th:only-of-type {\n",
       "        vertical-align: middle;\n",
       "    }\n",
       "\n",
       "    .dataframe tbody tr th {\n",
       "        vertical-align: top;\n",
       "    }\n",
       "\n",
       "    .dataframe thead th {\n",
       "        text-align: right;\n",
       "    }\n",
       "</style>\n",
       "<table border=\"1\" class=\"dataframe\">\n",
       "  <thead>\n",
       "    <tr style=\"text-align: right;\">\n",
       "      <th></th>\n",
       "      <th>listing_id</th>\n",
       "      <th>date</th>\n",
       "      <th>available</th>\n",
       "      <th>price</th>\n",
       "      <th>adjusted_price</th>\n",
       "      <th>minimum_nights</th>\n",
       "      <th>maximum_nights</th>\n",
       "    </tr>\n",
       "  </thead>\n",
       "  <tbody>\n",
       "    <tr>\n",
       "      <th>0</th>\n",
       "      <td>3781</td>\n",
       "      <td>2020-04-14</td>\n",
       "      <td>f</td>\n",
       "      <td>$125.00</td>\n",
       "      <td>$125.00</td>\n",
       "      <td>28</td>\n",
       "      <td>1125</td>\n",
       "    </tr>\n",
       "    <tr>\n",
       "      <th>1</th>\n",
       "      <td>95453</td>\n",
       "      <td>2020-04-14</td>\n",
       "      <td>t</td>\n",
       "      <td>$179.00</td>\n",
       "      <td>$179.00</td>\n",
       "      <td>5</td>\n",
       "      <td>60</td>\n",
       "    </tr>\n",
       "    <tr>\n",
       "      <th>2</th>\n",
       "      <td>95453</td>\n",
       "      <td>2020-04-15</td>\n",
       "      <td>t</td>\n",
       "      <td>$179.00</td>\n",
       "      <td>$179.00</td>\n",
       "      <td>5</td>\n",
       "      <td>60</td>\n",
       "    </tr>\n",
       "    <tr>\n",
       "      <th>3</th>\n",
       "      <td>95453</td>\n",
       "      <td>2020-04-16</td>\n",
       "      <td>f</td>\n",
       "      <td>$179.00</td>\n",
       "      <td>$179.00</td>\n",
       "      <td>5</td>\n",
       "      <td>60</td>\n",
       "    </tr>\n",
       "    <tr>\n",
       "      <th>4</th>\n",
       "      <td>95453</td>\n",
       "      <td>2020-04-17</td>\n",
       "      <td>t</td>\n",
       "      <td>$199.00</td>\n",
       "      <td>$199.00</td>\n",
       "      <td>5</td>\n",
       "      <td>60</td>\n",
       "    </tr>\n",
       "  </tbody>\n",
       "</table>\n",
       "</div>"
      ],
      "text/plain": [
       "   listing_id        date available    price adjusted_price  minimum_nights  \\\n",
       "0        3781  2020-04-14         f  $125.00        $125.00              28   \n",
       "1       95453  2020-04-14         t  $179.00        $179.00               5   \n",
       "2       95453  2020-04-15         t  $179.00        $179.00               5   \n",
       "3       95453  2020-04-16         f  $179.00        $179.00               5   \n",
       "4       95453  2020-04-17         t  $199.00        $199.00               5   \n",
       "\n",
       "   maximum_nights  \n",
       "0            1125  \n",
       "1              60  \n",
       "2              60  \n",
       "3              60  \n",
       "4              60  "
      ]
     },
     "execution_count": 3,
     "metadata": {},
     "output_type": "execute_result"
    }
   ],
   "source": [
    "print(boston_cal.shape)\n",
    "boston_cal.head()"
   ]
  },
  {
   "cell_type": "code",
   "execution_count": 4,
   "metadata": {},
   "outputs": [],
   "source": [
    "def change_price_to_float(df):\n",
    "    \"\"\"\n",
    "    Change the listing price type from object to float, so we can operate on number type\n",
    "    Args:\n",
    "        df: the dataframe of Boston or Seattle listings\n",
    "    Returns:\n",
    "        df: the dataframe with price column changed to float type\n",
    "    \"\"\"\n",
    "    df['price'] = df['price'].replace('[\\$,]', '', regex=True).astype(float)\n",
    "    return df\n",
    "\n",
    "boston_cal= change_price_to_float(boston_cal)\n",
    "seattle_cal = change_price_to_float(seattle_cal)"
   ]
  },
  {
   "cell_type": "code",
   "execution_count": 5,
   "metadata": {},
   "outputs": [],
   "source": [
    "boston_cal['month'] = boston_cal['date'].apply(lambda x: x[:7])\n",
    "seattle_cal['month'] = seattle_cal['date'].apply(lambda x: x[:7])"
   ]
  },
  {
   "cell_type": "code",
   "execution_count": 6,
   "metadata": {},
   "outputs": [
    {
     "data": {
      "image/png": "[encoded data removed]",
      "text/plain": [
       "<Figure size 432x288 with 1 Axes>"
      ]
     },
     "metadata": {
      "needs_background": "light"
     },
     "output_type": "display_data"
    }
   ],
   "source": [
    "boston_cal['price'].hist(bins=30);"
   ]
  },
  {
   "cell_type": "code",
   "execution_count": 7,
   "metadata": {},
   "outputs": [
    {
     "data": {
      "image/png": "[encoded data removed]",
      "text/plain": [
       "<Figure size 432x288 with 1 Axes>"
      ]
     },
     "metadata": {
      "needs_background": "light"
     },
     "output_type": "display_data"
    }
   ],
   "source": [
    "boston_cal[boston_cal['price'] < 500]['price'].hist();"
   ]
  },
  {
   "cell_type": "code",
   "execution_count": 8,
   "metadata": {},
   "outputs": [],
   "source": [
    "boston_cal = boston_cal[(boston_cal['price'] < 500)]\n",
    "seattle_cal = seattle_cal[(seattle_cal['price'] < 500)]"
   ]
  },
  {
   "cell_type": "code",
   "execution_count": 9,
   "metadata": {},
   "outputs": [],
   "source": [
    "# because "
   ]
  },
  {
   "cell_type": "code",
   "execution_count": 10,
   "metadata": {},
   "outputs": [
    {
     "data": {
      "image/png": "[encoded data removed]",
      "text/plain": [
       "<Figure size 720x288 with 2 Axes>"
      ]
     },
     "metadata": {
      "needs_background": "light"
     },
     "output_type": "display_data"
    }
   ],
   "source": [
    "# average price by month\n",
    "fig, axes = plt.subplots(1,2, constrained_layout=True, sharex=True, sharey=True)\n",
    "fig.set_size_inches(10, 4)\n",
    "axes[0].set_title('Boston- Average list price by month')\n",
    "axes[1].set_title('Seattle - Average list price by month')\n",
    "boston_cal[['month', 'price']].groupby('month').mean().plot(kind='bar', ax=axes[0], legend=None, rot=75)\n",
    "seattle_cal[['month', 'price']].groupby('month').mean().plot(kind='bar', ax=axes[1], legend=None, rot=75)\n",
    "axes[0].grid(axis='y')\n",
    "axes[1].grid(axis='y')\n",
    "axes[0].yaxis.set_major_formatter(ticker.FormatStrFormatter('$%1.0f'))"
   ]
  },
  {
   "cell_type": "code",
   "execution_count": 11,
   "metadata": {},
   "outputs": [],
   "source": [
    "# remove the begin and end months because there were less data collected compare with other months\n",
    "boston_cal = boston_cal[~boston_cal['month'].isin([boston_cal['month'].min(), boston_cal['month'].max()])]\n",
    "seattle_cal = seattle_cal[~seattle_cal['month'].isin([seattle_cal['month'].min(), seattle_cal['month'].max()])]"
   ]
  },
  {
   "cell_type": "code",
   "execution_count": 12,
   "metadata": {},
   "outputs": [
    {
     "data": {
      "image/png": "[encoded data removed]",
      "text/plain": [
       "<Figure size 720x288 with 2 Axes>"
      ]
     },
     "metadata": {
      "needs_background": "light"
     },
     "output_type": "display_data"
    }
   ],
   "source": [
    "# number of listings by month\n",
    "fig, axes = plt.subplots(1,2, constrained_layout=True)\n",
    "fig.set_size_inches(10, 4)\n",
    "axes[0].set_title('Boston - number of listings by month')\n",
    "axes[1].set_title('Seattle - number of listtings by month')\n",
    "\n",
    "boston_cal[['month', 'listing_id']].groupby('month').count().plot(kind='bar', ax=axes[0], legend=None);\n",
    "seattle_cal[['month', 'listing_id']].groupby('month').count().plot(kind='bar', ax=axes[1], legend=None);\n",
    "axes[0].grid(axis='y')\n",
    "axes[1].grid(axis='y');"
   ]
  },
  {
   "cell_type": "code",
   "execution_count": null,
   "metadata": {},
   "outputs": [],
   "source": []
  }
 ],
 "metadata": {
  "kernelspec": {
   "display_name": "Python 3",
   "language": "python",
   "name": "python3"
  },
  "language_info": {
   "codemirror_mode": {
    "name": "ipython",
    "version": 3
   },
   "file_extension": ".py",
   "mimetype": "text/x-python",
   "name": "python",
   "nbconvert_exporter": "python",
   "pygments_lexer": "ipython3",
   "version": "3.7.6"
  }
 },
 "nbformat": 4,
 "nbformat_minor": 4
}
